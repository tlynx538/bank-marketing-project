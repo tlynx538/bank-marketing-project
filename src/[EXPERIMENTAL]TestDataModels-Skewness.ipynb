{
 "cells": [
  {
   "cell_type": "code",
   "execution_count": 1,
   "id": "c3bdac6f-519c-4278-93c1-3fd2b14b73ac",
   "metadata": {},
   "outputs": [],
   "source": [
    "import pandas as pd \n",
    "from sklearn.preprocessing import StandardScaler\n",
    "from sklearn.metrics import accuracy_score, confusion_matrix, classification_report, roc_auc_score\n",
    "import pickle"
   ]
  },
  {
   "cell_type": "code",
   "execution_count": 2,
   "id": "58474ad6-131f-4b81-8aa5-877759f4e656",
   "metadata": {},
   "outputs": [],
   "source": [
    "df = pd.read_csv(\"../data/processed/bank-dataset-additional-processed-skewness.csv\",index_col=0)"
   ]
  },
  {
   "cell_type": "code",
   "execution_count": 3,
   "id": "5b3e625e-632a-49e6-b511-9f3b7c6cccba",
   "metadata": {},
   "outputs": [
    {
     "data": {
      "text/html": [
       "<div>\n",
       "<style scoped>\n",
       "    .dataframe tbody tr th:only-of-type {\n",
       "        vertical-align: middle;\n",
       "    }\n",
       "\n",
       "    .dataframe tbody tr th {\n",
       "        vertical-align: top;\n",
       "    }\n",
       "\n",
       "    .dataframe thead th {\n",
       "        text-align: right;\n",
       "    }\n",
       "</style>\n",
       "<table border=\"1\" class=\"dataframe\">\n",
       "  <thead>\n",
       "    <tr style=\"text-align: right;\">\n",
       "      <th></th>\n",
       "      <th>default</th>\n",
       "      <th>housing</th>\n",
       "      <th>loan</th>\n",
       "      <th>y</th>\n",
       "      <th>duration_boxcox</th>\n",
       "      <th>campaign_cbrt</th>\n",
       "      <th>pdays_special</th>\n",
       "      <th>pdays_transformed</th>\n",
       "      <th>had_previous</th>\n",
       "      <th>age_scaled</th>\n",
       "      <th>...</th>\n",
       "      <th>education_high.school</th>\n",
       "      <th>education_illiterate</th>\n",
       "      <th>education_professional.course</th>\n",
       "      <th>education_university.degree</th>\n",
       "      <th>contact_telephone</th>\n",
       "      <th>poutcome_nonexistent</th>\n",
       "      <th>poutcome_success</th>\n",
       "      <th>month_num</th>\n",
       "      <th>month_sin</th>\n",
       "      <th>month_cos</th>\n",
       "    </tr>\n",
       "  </thead>\n",
       "  <tbody>\n",
       "    <tr>\n",
       "      <th>0</th>\n",
       "      <td>False</td>\n",
       "      <td>False</td>\n",
       "      <td>False</td>\n",
       "      <td>False</td>\n",
       "      <td>8.480303</td>\n",
       "      <td>1.0</td>\n",
       "      <td>0</td>\n",
       "      <td>6.907755</td>\n",
       "      <td>0</td>\n",
       "      <td>1.642253</td>\n",
       "      <td>...</td>\n",
       "      <td>False</td>\n",
       "      <td>False</td>\n",
       "      <td>False</td>\n",
       "      <td>False</td>\n",
       "      <td>True</td>\n",
       "      <td>True</td>\n",
       "      <td>False</td>\n",
       "      <td>5</td>\n",
       "      <td>0.5</td>\n",
       "      <td>-0.866025</td>\n",
       "    </tr>\n",
       "    <tr>\n",
       "      <th>2</th>\n",
       "      <td>False</td>\n",
       "      <td>True</td>\n",
       "      <td>False</td>\n",
       "      <td>False</td>\n",
       "      <td>8.166177</td>\n",
       "      <td>1.0</td>\n",
       "      <td>0</td>\n",
       "      <td>6.907755</td>\n",
       "      <td>0</td>\n",
       "      <td>-0.196452</td>\n",
       "      <td>...</td>\n",
       "      <td>True</td>\n",
       "      <td>False</td>\n",
       "      <td>False</td>\n",
       "      <td>False</td>\n",
       "      <td>True</td>\n",
       "      <td>True</td>\n",
       "      <td>False</td>\n",
       "      <td>5</td>\n",
       "      <td>0.5</td>\n",
       "      <td>-0.866025</td>\n",
       "    </tr>\n",
       "    <tr>\n",
       "      <th>3</th>\n",
       "      <td>False</td>\n",
       "      <td>False</td>\n",
       "      <td>False</td>\n",
       "      <td>False</td>\n",
       "      <td>7.319957</td>\n",
       "      <td>1.0</td>\n",
       "      <td>0</td>\n",
       "      <td>6.907755</td>\n",
       "      <td>0</td>\n",
       "      <td>0.093870</td>\n",
       "      <td>...</td>\n",
       "      <td>False</td>\n",
       "      <td>False</td>\n",
       "      <td>False</td>\n",
       "      <td>False</td>\n",
       "      <td>True</td>\n",
       "      <td>True</td>\n",
       "      <td>False</td>\n",
       "      <td>5</td>\n",
       "      <td>0.5</td>\n",
       "      <td>-0.866025</td>\n",
       "    </tr>\n",
       "    <tr>\n",
       "      <th>4</th>\n",
       "      <td>False</td>\n",
       "      <td>False</td>\n",
       "      <td>True</td>\n",
       "      <td>False</td>\n",
       "      <td>8.842255</td>\n",
       "      <td>1.0</td>\n",
       "      <td>0</td>\n",
       "      <td>6.907755</td>\n",
       "      <td>0</td>\n",
       "      <td>1.642253</td>\n",
       "      <td>...</td>\n",
       "      <td>True</td>\n",
       "      <td>False</td>\n",
       "      <td>False</td>\n",
       "      <td>False</td>\n",
       "      <td>True</td>\n",
       "      <td>True</td>\n",
       "      <td>False</td>\n",
       "      <td>5</td>\n",
       "      <td>0.5</td>\n",
       "      <td>-0.866025</td>\n",
       "    </tr>\n",
       "    <tr>\n",
       "      <th>6</th>\n",
       "      <td>False</td>\n",
       "      <td>False</td>\n",
       "      <td>False</td>\n",
       "      <td>False</td>\n",
       "      <td>7.152132</td>\n",
       "      <td>1.0</td>\n",
       "      <td>0</td>\n",
       "      <td>6.907755</td>\n",
       "      <td>0</td>\n",
       "      <td>1.932575</td>\n",
       "      <td>...</td>\n",
       "      <td>False</td>\n",
       "      <td>False</td>\n",
       "      <td>True</td>\n",
       "      <td>False</td>\n",
       "      <td>True</td>\n",
       "      <td>True</td>\n",
       "      <td>False</td>\n",
       "      <td>5</td>\n",
       "      <td>0.5</td>\n",
       "      <td>-0.866025</td>\n",
       "    </tr>\n",
       "  </tbody>\n",
       "</table>\n",
       "<p>5 rows × 34 columns</p>\n",
       "</div>"
      ],
      "text/plain": [
       "   default  housing   loan      y  duration_boxcox  campaign_cbrt  \\\n",
       "0    False    False  False  False         8.480303            1.0   \n",
       "2    False     True  False  False         8.166177            1.0   \n",
       "3    False    False  False  False         7.319957            1.0   \n",
       "4    False    False   True  False         8.842255            1.0   \n",
       "6    False    False  False  False         7.152132            1.0   \n",
       "\n",
       "   pdays_special  pdays_transformed  had_previous  age_scaled  ...  \\\n",
       "0              0           6.907755             0    1.642253  ...   \n",
       "2              0           6.907755             0   -0.196452  ...   \n",
       "3              0           6.907755             0    0.093870  ...   \n",
       "4              0           6.907755             0    1.642253  ...   \n",
       "6              0           6.907755             0    1.932575  ...   \n",
       "\n",
       "   education_high.school  education_illiterate  education_professional.course  \\\n",
       "0                  False                 False                          False   \n",
       "2                   True                 False                          False   \n",
       "3                  False                 False                          False   \n",
       "4                   True                 False                          False   \n",
       "6                  False                 False                           True   \n",
       "\n",
       "   education_university.degree  contact_telephone  poutcome_nonexistent  \\\n",
       "0                        False               True                  True   \n",
       "2                        False               True                  True   \n",
       "3                        False               True                  True   \n",
       "4                        False               True                  True   \n",
       "6                        False               True                  True   \n",
       "\n",
       "   poutcome_success  month_num  month_sin  month_cos  \n",
       "0             False          5        0.5  -0.866025  \n",
       "2             False          5        0.5  -0.866025  \n",
       "3             False          5        0.5  -0.866025  \n",
       "4             False          5        0.5  -0.866025  \n",
       "6             False          5        0.5  -0.866025  \n",
       "\n",
       "[5 rows x 34 columns]"
      ]
     },
     "execution_count": 3,
     "metadata": {},
     "output_type": "execute_result"
    }
   ],
   "source": [
    "df.head()"
   ]
  },
  {
   "cell_type": "code",
   "execution_count": 4,
   "id": "5b2fbaca-9d13-4a3f-ba41-8a070232b244",
   "metadata": {},
   "outputs": [],
   "source": [
    "# Features and target\n",
    "X = df.drop('y', axis=1)\n",
    "y = df['y']"
   ]
  },
  {
   "cell_type": "code",
   "execution_count": 5,
   "id": "22d0cec8-2f3b-464c-986e-f8e771a151ea",
   "metadata": {},
   "outputs": [],
   "source": [
    "# Feature scaling (important for logistic regression)\n",
    "scaler = StandardScaler()\n",
    "X = scaler.fit_transform(X)"
   ]
  },
  {
   "cell_type": "markdown",
   "id": "c072101e-67bf-4b39-9d91-cf7b01abe071",
   "metadata": {},
   "source": [
    "# testing with logistic regression model"
   ]
  },
  {
   "cell_type": "code",
   "execution_count": 6,
   "id": "4091ab33-6080-474f-8066-f5c4b6297584",
   "metadata": {},
   "outputs": [],
   "source": [
    "# Load the model back\n",
    "with open('models/logistic_regression_model-skewness.pkl', 'rb') as file:\n",
    "    loaded_model = pickle.load(file)\n",
    "\n",
    "# Now you can predict\n",
    "y_pred = loaded_model.predict(X)"
   ]
  },
  {
   "cell_type": "code",
   "execution_count": 7,
   "id": "2163fc57-27cf-4bfb-8e0c-df4d1376ede9",
   "metadata": {},
   "outputs": [
    {
     "name": "stdout",
     "output_type": "stream",
     "text": [
      "Accuracy: 0.7603975334557859\n",
      "Confusion Matrix:\n",
      " [[20940  5689]\n",
      " [ 1616  2243]]\n",
      "Classification Report:\n",
      "               precision    recall  f1-score   support\n",
      "\n",
      "       False       0.93      0.79      0.85     26629\n",
      "        True       0.28      0.58      0.38      3859\n",
      "\n",
      "    accuracy                           0.76     30488\n",
      "   macro avg       0.61      0.68      0.62     30488\n",
      "weighted avg       0.85      0.76      0.79     30488\n",
      "\n"
     ]
    }
   ],
   "source": [
    "# Evaluation\n",
    "print(\"Accuracy:\", accuracy_score(y, y_pred))\n",
    "print(\"Confusion Matrix:\\n\", confusion_matrix(y, y_pred))\n",
    "print(\"Classification Report:\\n\", classification_report(y, y_pred))"
   ]
  },
  {
   "cell_type": "markdown",
   "id": "e7980ce5-db0a-4526-ae89-b181014ceead",
   "metadata": {},
   "source": [
    "# testing with random forest model"
   ]
  },
  {
   "cell_type": "code",
   "execution_count": 8,
   "id": "a142a0aa-0f8a-4c95-b631-8e1a0d88e1e9",
   "metadata": {},
   "outputs": [],
   "source": [
    "# Load the model back\n",
    "with open('models/random_forest_model-skewness.pkl', 'rb') as file:\n",
    "    loaded_model = pickle.load(file)\n",
    "\n",
    "# Now you can predict\n",
    "y_pred = loaded_model.predict(X)"
   ]
  },
  {
   "cell_type": "code",
   "execution_count": 9,
   "id": "849f14ac-1fe2-48ed-9cc0-ed726f1d2082",
   "metadata": {},
   "outputs": [
    {
     "name": "stdout",
     "output_type": "stream",
     "text": [
      "Accuracy: 0.8692600367357649\n",
      "Confusion Matrix:\n",
      " [[25944   685]\n",
      " [ 3301   558]]\n",
      "Classification Report:\n",
      "               precision    recall  f1-score   support\n",
      "\n",
      "       False       0.89      0.97      0.93     26629\n",
      "        True       0.45      0.14      0.22      3859\n",
      "\n",
      "    accuracy                           0.87     30488\n",
      "   macro avg       0.67      0.56      0.57     30488\n",
      "weighted avg       0.83      0.87      0.84     30488\n",
      "\n"
     ]
    }
   ],
   "source": [
    "# Evaluation\n",
    "print(\"Accuracy:\", accuracy_score(y, y_pred))\n",
    "print(\"Confusion Matrix:\\n\", confusion_matrix(y, y_pred))\n",
    "print(\"Classification Report:\\n\", classification_report(y, y_pred))"
   ]
  },
  {
   "cell_type": "markdown",
   "id": "189f39b4-8c12-4662-8f37-de2dbce5e748",
   "metadata": {},
   "source": [
    "# testing with xgboost model"
   ]
  },
  {
   "cell_type": "code",
   "execution_count": 10,
   "id": "61a7a396-88b5-4560-b236-ce1e42298505",
   "metadata": {},
   "outputs": [],
   "source": [
    "# Load the model back\n",
    "with open('models/xgboost_model_skewness.pkl', 'rb') as file:\n",
    "    loaded_model = pickle.load(file)\n",
    "\n",
    "# Now you can predict\n",
    "y_pred = loaded_model.predict(X)"
   ]
  },
  {
   "cell_type": "code",
   "execution_count": 11,
   "id": "968ae68e-8c8c-4451-a722-53a195a7270d",
   "metadata": {},
   "outputs": [
    {
     "name": "stdout",
     "output_type": "stream",
     "text": [
      "Accuracy: 0.762791918131724\n",
      "Confusion Matrix:\n",
      " [[20472  6157]\n",
      " [ 1075  2784]]\n",
      "Classification Report:\n",
      "               precision    recall  f1-score   support\n",
      "\n",
      "       False       0.95      0.77      0.85     26629\n",
      "        True       0.31      0.72      0.43      3859\n",
      "\n",
      "    accuracy                           0.76     30488\n",
      "   macro avg       0.63      0.75      0.64     30488\n",
      "weighted avg       0.87      0.76      0.80     30488\n",
      "\n"
     ]
    }
   ],
   "source": [
    "# Evaluation\n",
    "print(\"Accuracy:\", accuracy_score(y, y_pred))\n",
    "print(\"Confusion Matrix:\\n\", confusion_matrix(y, y_pred))\n",
    "print(\"Classification Report:\\n\", classification_report(y, y_pred))"
   ]
  },
  {
   "cell_type": "markdown",
   "id": "ebe5f330-6507-4eef-a813-72d9a7ed6da8",
   "metadata": {},
   "source": [
    "## Model Performance Summary\n",
    "\n",
    "| Model               | Accuracy | Precision (True) | Recall (True) | F1 (True) | Notes                                              |\n",
    "|---------------------|:--------:|:----------------:|:-------------:|:---------:|----------------------------------------------------|\n",
    "| Logistic Regression | 76.04%   | 0.28              | 0.58          | 0.38      | Decent recall boost, precision still low           |\n",
    "| Random Forest       | 86.93%   | 0.45              | 0.14          | 0.22      | Great accuracy for \"no\" class, struggles on \"yes\"  |\n",
    "| XGBoost             | 76.28%   | 0.31              | 0.72          | 0.43      | Recall king, decent F1, similar accuracy to LogReg |\n"
   ]
  },
  {
   "cell_type": "code",
   "execution_count": null,
   "id": "ff6f4d42-6d17-4707-8891-7d9b97e109d4",
   "metadata": {},
   "outputs": [],
   "source": []
  }
 ],
 "metadata": {
  "kernelspec": {
   "display_name": "Python 3 (ipykernel)",
   "language": "python",
   "name": "python3"
  },
  "language_info": {
   "codemirror_mode": {
    "name": "ipython",
    "version": 3
   },
   "file_extension": ".py",
   "mimetype": "text/x-python",
   "name": "python",
   "nbconvert_exporter": "python",
   "pygments_lexer": "ipython3",
   "version": "3.12.8"
  }
 },
 "nbformat": 4,
 "nbformat_minor": 5
}
